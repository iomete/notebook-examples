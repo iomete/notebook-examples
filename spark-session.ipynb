{
 "cells": [
  {
   "attachments": {},
   "cell_type": "markdown",
   "metadata": {},
   "source": [
    "### Import and initialize SparkSession"
   ]
  },
  {
   "cell_type": "code",
   "execution_count": 1,
   "metadata": {},
   "outputs": [],
   "source": [
    "from pyspark.sql import SparkSession\n",
    "spark = SparkSession.builder.appName(\"Jupiter\").getOrCreate()"
   ]
  },
  {
   "cell_type": "code",
   "execution_count": 6,
   "metadata": {},
   "outputs": [],
   "source": [
    "df = spark.sql(\"show databases\")"
   ]
  },
  {
   "cell_type": "code",
   "execution_count": 7,
   "metadata": {},
   "outputs": [
    {
     "name": "stdout",
     "output_type": "stream",
     "text": [
      "+----------------+\n",
      "|       namespace|\n",
      "+----------------+\n",
      "|         default|\n",
      "|         demo_db|\n",
      "|employees_pg_raw|\n",
      "|   employees_raw|\n",
      "|  mongo_local_db|\n",
      "|  mysql_tutorial|\n",
      "|     pg_tutorial|\n",
      "+----------------+\n",
      "\n"
     ]
    }
   ],
   "source": [
    "df.show()"
   ]
  },
  {
   "cell_type": "code",
   "execution_count": 8,
   "metadata": {},
   "outputs": [
    {
     "name": "stdout",
     "output_type": "stream",
     "text": [
      "+---------+-------------+-----------+\n",
      "|namespace|    tableName|isTemporary|\n",
      "+---------+-------------+-----------+\n",
      "|  demo_db|       agents|      false|\n",
      "|  demo_db|      company|      false|\n",
      "|  demo_db|     customer|      false|\n",
      "|  demo_db|    daysorder|      false|\n",
      "|  demo_db|        foods|      false|\n",
      "|  demo_db|   listofitem|      false|\n",
      "|  demo_db|       orders|      false|\n",
      "|  demo_db|      student|      false|\n",
      "|  demo_db|studentreport|      false|\n",
      "+---------+-------------+-----------+\n",
      "\n"
     ]
    }
   ],
   "source": [
    "demo_tables_df = spark.sql(\"show tables in demo_db\")\n",
    "demo_tables_df.show()"
   ]
  }
 ],
 "metadata": {
  "kernelspec": {
   "display_name": "Pyspark",
   "language": "python",
   "name": "iomete_pyspark_base"
  },
  "language_info": {
   "codemirror_mode": {
    "name": "ipython",
    "version": 3
   },
   "file_extension": ".py",
   "mimetype": "text/x-python",
   "name": "python",
   "nbconvert_exporter": "python",
   "pygments_lexer": "ipython3",
   "version": "3.9.2"
  },
  "orig_nbformat": 4
 },
 "nbformat": 4,
 "nbformat_minor": 2
}
